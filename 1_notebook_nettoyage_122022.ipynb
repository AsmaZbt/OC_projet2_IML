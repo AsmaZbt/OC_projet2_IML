{
 "cells": [
  {
   "cell_type": "markdown",
   "metadata": {},
   "source": [
    "# Problématique"
   ]
  },
  {
   "cell_type": "markdown",
   "metadata": {},
   "source": [
    "L'agence \"Santé publique France\" a lancé un appel à projets pour trouver des idées innovantes d’applications en lien avec l'alimentation.  Je souhaite y participer et proposer une idée d’application."
   ]
  },
  {
   "cell_type": "markdown",
   "metadata": {},
   "source": [
    "# Application proposée"
   ]
  },
  {
   "cell_type": "markdown",
   "metadata": {},
   "source": [
    "Nous proposons une application \"Nutri-grade finder\",permettant à partir d'un Scan du Code à Barres, de trouver le nutriscore-grade des produits. Avec cette application, l'utilisateur pourra trouver le nutriscore-grade des produits qui manquent de cette information sur leurs emballages. "
   ]
  },
  {
   "cell_type": "markdown",
   "metadata": {},
   "source": [
    "#  Nettoyage du jeu de données \"Open Food Facts\""
   ]
  },
  {
   "cell_type": "markdown",
   "metadata": {},
   "source": [
    "Le jeu de données est téléchargeable sur le site Open Food Facts : On a téléchargé le format CSV. Lors du téléchargement, le jeu de données est assez important (environ 7Go)."
   ]
  },
  {
   "cell_type": "code",
   "execution_count": 1,
   "metadata": {},
   "outputs": [],
   "source": [
    "import pandas as pd\n",
    "import seaborn as sns\n",
    "import matplotlib.pyplot as plt\n",
    "import numpy as np\n",
    "from scipy import stats\n",
    "import missingno as msno   # identifier et visualiser les données manquantes\n",
    "import warnings\n",
    "warnings.filterwarnings(\"ignore\") # éviter d'afficher les alertes pythons \n",
    "\n",
    "\n",
    "\n",
    "filename = 'en.openfoodfacts.org.products.csv'"
   ]
  },
  {
   "cell_type": "code",
   "execution_count": 2,
   "metadata": {},
   "outputs": [],
   "source": [
    "pd.set_option('display.max_columns', 200)\n",
    "pd.set_option('display.max_rows', 1000)\n",
    "pd.set_option('display.max_colwidth', -1)"
   ]
  },
  {
   "cell_type": "markdown",
   "metadata": {},
   "source": [
    " ## Chargement des données"
   ]
  },
  {
   "cell_type": "markdown",
   "metadata": {},
   "source": [
    "Vu la taille importante du fichier csv, on a décider de charger les colonnes les mieux rempli "
   ]
  },
  {
   "cell_type": "code",
   "execution_count": 3,
   "metadata": {},
   "outputs": [],
   "source": [
    "# le chargement  des colonnes les mieux rempli du jeux de donnée .\n",
    "\n",
    "# nombre de lignes à charger en même temps en mémoire\n",
    "chunksize = 10 ** 4\n",
    "\n",
    "nan_rates = []\n",
    "for chunk in pd.read_csv(filename, chunksize=chunksize, sep='\\t'):\n",
    "    nan_rates.append(chunk.isna().mean(axis=0))\n",
    "    \n",
    "# moyenne des taux de remplissage des chunks\n",
    "inds_nan_rate = pd.concat(nan_rates, axis=1).mean(axis=1)\n",
    "cols_to_load = inds_nan_rate[inds_nan_rate < 0.7].index.tolist()\n",
    "df = pd.read_csv(filename, sep='\\t', usecols=cols_to_load)\n"
   ]
  },
  {
   "cell_type": "code",
   "execution_count": 4,
   "metadata": {},
   "outputs": [
    {
     "data": {
      "text/plain": [
       "Index(['code', 'url', 'creator', 'created_t', 'created_datetime',\n",
       "       'last_modified_t', 'last_modified_datetime', 'product_name', 'brands',\n",
       "       'brands_tags', 'categories', 'categories_tags', 'categories_en',\n",
       "       'countries', 'countries_tags', 'countries_en', 'ingredients_text',\n",
       "       'ingredients_analysis_tags', 'additives_n', 'nutriscore_score',\n",
       "       'nutriscore_grade', 'pnns_groups_1', 'pnns_groups_2', 'food_groups',\n",
       "       'food_groups_tags', 'food_groups_en', 'states', 'states_tags',\n",
       "       'states_en', 'ecoscore_grade', 'nutrient_levels_tags', 'completeness',\n",
       "       'last_image_t', 'last_image_datetime', 'main_category',\n",
       "       'main_category_en', 'image_url', 'image_small_url',\n",
       "       'image_nutrition_url', 'image_nutrition_small_url', 'energy-kcal_100g',\n",
       "       'energy_100g', 'fat_100g', 'saturated-fat_100g', 'carbohydrates_100g',\n",
       "       'sugars_100g', 'fiber_100g', 'proteins_100g', 'salt_100g',\n",
       "       'sodium_100g', 'nutrition-score-fr_100g'],\n",
       "      dtype='object')"
      ]
     },
     "execution_count": 4,
     "metadata": {},
     "output_type": "execute_result"
    }
   ],
   "source": [
    "# on affiche la liste des colonnes . \n",
    "df.columns"
   ]
  },
  {
   "cell_type": "code",
   "execution_count": 5,
   "metadata": {},
   "outputs": [],
   "source": [
    "#vérification des variables pertinantes; dont on n'a pas besoin pour la suite de l'analyse\n",
    "columns_to_keep = ['code', 'product_name', 'brands',\n",
    "       'brands_tags', 'categories', 'categories_tags', 'categories_en',\n",
    "       'countries', 'countries_tags', 'countries_en', 'ingredients_text',\n",
    "       'ingredients_analysis_tags', 'additives_n', 'nutriscore_score',\n",
    "       'nutriscore_grade', 'nutrition-score-fr_100g', 'pnns_groups_1', 'pnns_groups_2', 'food_groups',\n",
    "       'food_groups_tags', 'food_groups_en', 'states', 'states_tags',\n",
    "       'states_en', 'ecoscore_grade', 'nutrient_levels_tags', 'completeness',\n",
    "       'main_category','main_category_en', 'energy-kcal_100g',\n",
    "       'energy_100g', 'fat_100g', 'saturated-fat_100g', 'carbohydrates_100g',\n",
    "       'sugars_100g', 'fiber_100g', 'proteins_100g', 'salt_100g','sodium_100g']"
   ]
  },
  {
   "cell_type": "code",
   "execution_count": 6,
   "metadata": {},
   "outputs": [
    {
     "name": "stdout",
     "output_type": "stream",
     "text": [
      "le nombre des colonnes qui reste à exploiter est :  39\n"
     ]
    }
   ],
   "source": [
    "print('le nombre des colonnes qui reste à exploiter est : ',len(columns_to_keep))"
   ]
  },
  {
   "cell_type": "code",
   "execution_count": 7,
   "metadata": {},
   "outputs": [],
   "source": [
    "# recharger le dataframe avec les variables pertinantes uniquement pour libérer la RAM.\n",
    "\n",
    "df = pd.read_csv(filename, sep='\\t', usecols=columns_to_keep)"
   ]
  },
  {
   "cell_type": "code",
   "execution_count": 8,
   "metadata": {},
   "outputs": [],
   "source": [
    "def nbr_ligne_colonne(data):\n",
    "    print('Nombre de lignes restants = ',data.shape[0])\n",
    "    print('Nombre de colonnes restants = ',data.shape[1])"
   ]
  },
  {
   "cell_type": "code",
   "execution_count": 9,
   "metadata": {},
   "outputs": [
    {
     "name": "stdout",
     "output_type": "stream",
     "text": [
      "Nombre de lignes restants =  2679997\n",
      "Nombre de colonnes restants =  39\n"
     ]
    }
   ],
   "source": [
    "nbr_ligne_colonne(df)"
   ]
  },
  {
   "cell_type": "markdown",
   "metadata": {},
   "source": [
    "## Filtrage des variables pertinente"
   ]
  },
  {
   "cell_type": "code",
   "execution_count": 10,
   "metadata": {
    "scrolled": true
   },
   "outputs": [
    {
     "name": "stdout",
     "output_type": "stream",
     "text": [
      "<class 'pandas.core.frame.DataFrame'>\n",
      "RangeIndex: 2679997 entries, 0 to 2679996\n",
      "Data columns (total 39 columns):\n",
      " #   Column                     Dtype  \n",
      "---  ------                     -----  \n",
      " 0   code                       object \n",
      " 1   product_name               object \n",
      " 2   brands                     object \n",
      " 3   brands_tags                object \n",
      " 4   categories                 object \n",
      " 5   categories_tags            object \n",
      " 6   categories_en              object \n",
      " 7   countries                  object \n",
      " 8   countries_tags             object \n",
      " 9   countries_en               object \n",
      " 10  ingredients_text           object \n",
      " 11  ingredients_analysis_tags  object \n",
      " 12  additives_n                float64\n",
      " 13  nutriscore_score           float64\n",
      " 14  nutriscore_grade           object \n",
      " 15  pnns_groups_1              object \n",
      " 16  pnns_groups_2              object \n",
      " 17  food_groups                object \n",
      " 18  food_groups_tags           object \n",
      " 19  food_groups_en             object \n",
      " 20  states                     object \n",
      " 21  states_tags                object \n",
      " 22  states_en                  object \n",
      " 23  ecoscore_grade             object \n",
      " 24  nutrient_levels_tags       object \n",
      " 25  completeness               float64\n",
      " 26  main_category              object \n",
      " 27  main_category_en           object \n",
      " 28  energy-kcal_100g           float64\n",
      " 29  energy_100g                object \n",
      " 30  fat_100g                   float64\n",
      " 31  saturated-fat_100g         float64\n",
      " 32  carbohydrates_100g         float64\n",
      " 33  sugars_100g                float64\n",
      " 34  fiber_100g                 float64\n",
      " 35  proteins_100g              float64\n",
      " 36  salt_100g                  float64\n",
      " 37  sodium_100g                float64\n",
      " 38  nutrition-score-fr_100g    float64\n",
      "dtypes: float64(13), object(26)\n",
      "memory usage: 797.4+ MB\n"
     ]
    }
   ],
   "source": [
    "df.info()"
   ]
  },
  {
   "cell_type": "code",
   "execution_count": 11,
   "metadata": {},
   "outputs": [],
   "source": [
    "# Exploration des variables doublées et sélectioner les variables les plus pertinentes. \n",
    "\n",
    "#df[['brands','brands_tags']].isna().mean(axis=0)\n",
    "#df[['categories', 'categories_tags', 'categories_en']]['categories'].unique()\n",
    "#df[[ 'countries', 'countries_tags', 'countries_en']]['countries_en'].value_counts()\n",
    "#df[['ingredients_text','ingredients_analysis_tags']]\n",
    "#df[['nutriscore_score', 'nutrition-score-fr_100g']].value_counts()\n",
    "#df[['food_groups','food_groups_tags', 'food_groups_en']]['food_groups_en'].value_counts()\n",
    "#df[['states', 'states_tags','states_en']]\n",
    "#df[['main_category','main_category_en']]['main_category'].value_counts() \n",
    "\n",
    "#df[[]]"
   ]
  },
  {
   "cell_type": "code",
   "execution_count": 12,
   "metadata": {},
   "outputs": [],
   "source": [
    "cols_to_remove = ['brands_tags','categories_tags', 'categories_en','countries', 'countries_tags','nutrition-score-fr_100g','food_groups_tags', 'food_groups_en','states', 'states_tags','states_en','main_category']"
   ]
  },
  {
   "cell_type": "code",
   "execution_count": 13,
   "metadata": {},
   "outputs": [],
   "source": [
    "# supprimer les variables doublées \n",
    "\n",
    "df = df.drop(cols_to_remove, axis=1)"
   ]
  },
  {
   "cell_type": "code",
   "execution_count": 14,
   "metadata": {},
   "outputs": [
    {
     "name": "stdout",
     "output_type": "stream",
     "text": [
      "Nombre de lignes restants =  2679997\n",
      "Nombre de colonnes restants =  27\n"
     ]
    }
   ],
   "source": [
    "nbr_ligne_colonne(df)"
   ]
  },
  {
   "cell_type": "code",
   "execution_count": 15,
   "metadata": {},
   "outputs": [
    {
     "data": {
      "text/plain": [
       "code                        0.00000\n",
       "product_name                0.03523\n",
       "brands                      0.50866\n",
       "categories                  0.58692\n",
       "countries_en                0.00273\n",
       "ingredients_text            0.69994\n",
       "ingredients_analysis_tags   0.68356\n",
       "additives_n                 0.69994\n",
       "nutriscore_score            0.68376\n",
       "nutriscore_grade            0.68376\n",
       "pnns_groups_1               0.00026\n",
       "pnns_groups_2               0.00026\n",
       "food_groups                 0.66526\n",
       "ecoscore_grade              0.00042\n",
       "nutrient_levels_tags        0.64745\n",
       "completeness                0.00000\n",
       "main_category_en            0.58692\n",
       "energy-kcal_100g            0.22463\n",
       "energy_100g                 0.20700\n",
       "fat_100g                    0.21188\n",
       "saturated-fat_100g          0.22777\n",
       "carbohydrates_100g          0.21187\n",
       "sugars_100g                 0.21793\n",
       "fiber_100g                  0.66529\n",
       "proteins_100g               0.21112\n",
       "salt_100g                   0.29212\n",
       "sodium_100g                 0.29212\n",
       "dtype: float64"
      ]
     },
     "execution_count": 15,
     "metadata": {},
     "output_type": "execute_result"
    }
   ],
   "source": [
    "pd.options.display.float_format = '{:.5f}'.format\n",
    "df.isna().mean(axis=0)"
   ]
  },
  {
   "cell_type": "code",
   "execution_count": 16,
   "metadata": {
    "scrolled": true
   },
   "outputs": [],
   "source": [
    "data = df[['nutriscore_score','nutriscore_grade']]"
   ]
  },
  {
   "cell_type": "code",
   "execution_count": 17,
   "metadata": {
    "scrolled": true
   },
   "outputs": [
    {
     "data": {
      "text/plain": [
       "nutriscore_score   0.00000\n",
       "nutriscore_grade   0.00000\n",
       "dtype: float64"
      ]
     },
     "execution_count": 17,
     "metadata": {},
     "output_type": "execute_result"
    }
   ],
   "source": [
    "data[~data.isnull().all(axis=1)].isna().mean(axis=0)"
   ]
  },
  {
   "cell_type": "markdown",
   "metadata": {},
   "source": [
    "## Vérification de la présence de doublons"
   ]
  },
  {
   "cell_type": "code",
   "execution_count": 18,
   "metadata": {},
   "outputs": [
    {
     "name": "stdout",
     "output_type": "stream",
     "text": [
      "le nombre des lignes en doublons selon le code-barre est: 388\n"
     ]
    }
   ],
   "source": [
    "# supprimer les doublons en utilisant le code bar\n",
    "print('le nombre des lignes en doublons selon le code-barre est:',df.duplicated('code').sum())"
   ]
  },
  {
   "cell_type": "code",
   "execution_count": 19,
   "metadata": {},
   "outputs": [],
   "source": [
    "# on compte le nombre de valeurs manquantes pour la ligne et on stocke dans une nouvelle colonne\n",
    "df['NB_NAN'] = df.isna().sum(axis=1)\n",
    "# trie des lignes en fonction du nombre de valeurs manquantes\n",
    "df = df.sort_values('NB_NAN')"
   ]
  },
  {
   "cell_type": "code",
   "execution_count": 20,
   "metadata": {},
   "outputs": [],
   "source": [
    "len_df = len(df)"
   ]
  },
  {
   "cell_type": "code",
   "execution_count": 21,
   "metadata": {},
   "outputs": [],
   "source": [
    "# suppression des duplicatas en gardant les versions les mieux remplies\n",
    "df = df.drop_duplicates('code', keep='first')\n",
    "# on supprime la colonne qui n'est plus utile\n",
    "df = df.drop('NB_NAN', axis=1)"
   ]
  },
  {
   "cell_type": "code",
   "execution_count": 22,
   "metadata": {},
   "outputs": [],
   "source": [
    "# suppression de la variable code qui n'est plus utile. \n",
    "df = df.drop('code', axis=1)\n"
   ]
  },
  {
   "cell_type": "code",
   "execution_count": 23,
   "metadata": {},
   "outputs": [
    {
     "name": "stdout",
     "output_type": "stream",
     "text": [
      "Nombre de lignes restants =  2679609\n",
      "Nombre de colonnes restants =  26\n"
     ]
    }
   ],
   "source": [
    "nbr_ligne_colonne(df)"
   ]
  },
  {
   "cell_type": "markdown",
   "metadata": {},
   "source": [
    "Passons en minuscules toutes les modalités qualitatives nominales, pour supprimer les lignes doublons identiques. "
   ]
  },
  {
   "cell_type": "code",
   "execution_count": 24,
   "metadata": {},
   "outputs": [],
   "source": [
    "col_qualitative = ['product_name', \"brands\",\"categories\",\"countries_en\",\"ingredients_text\",\"ingredients_analysis_tags\", \"pnns_groups_1\", \"pnns_groups_2\", \"nutriscore_grade\",\"ecoscore_grade\",\"food_groups\",\"nutrient_levels_tags\",\"main_category_en\"]"
   ]
  },
  {
   "cell_type": "code",
   "execution_count": 25,
   "metadata": {},
   "outputs": [],
   "source": [
    "for col in col_qualitative :\n",
    "    df[col] = df[col].str.lower()"
   ]
  },
  {
   "cell_type": "code",
   "execution_count": 26,
   "metadata": {},
   "outputs": [
    {
     "name": "stdout",
     "output_type": "stream",
     "text": [
      "Nombre de doublons identique: 158324\n"
     ]
    }
   ],
   "source": [
    "print(f\"Nombre de doublons identique: {df[df.duplicated() == True].shape[0]}\")"
   ]
  },
  {
   "cell_type": "code",
   "execution_count": 27,
   "metadata": {},
   "outputs": [],
   "source": [
    "df_cleaned = df.drop_duplicates()"
   ]
  },
  {
   "cell_type": "code",
   "execution_count": 28,
   "metadata": {},
   "outputs": [
    {
     "name": "stdout",
     "output_type": "stream",
     "text": [
      "Nombre de lignes restants =  2521285\n",
      "Nombre de colonnes restants =  26\n"
     ]
    }
   ],
   "source": [
    "nbr_ligne_colonne(df_cleaned)"
   ]
  },
  {
   "cell_type": "code",
   "execution_count": 29,
   "metadata": {},
   "outputs": [],
   "source": [
    "del df"
   ]
  },
  {
   "cell_type": "markdown",
   "metadata": {},
   "source": [
    "## Traitement des outliers"
   ]
  },
  {
   "cell_type": "code",
   "execution_count": 30,
   "metadata": {},
   "outputs": [
    {
     "data": {
      "text/html": [
       "<div>\n",
       "<style scoped>\n",
       "    .dataframe tbody tr th:only-of-type {\n",
       "        vertical-align: middle;\n",
       "    }\n",
       "\n",
       "    .dataframe tbody tr th {\n",
       "        vertical-align: top;\n",
       "    }\n",
       "\n",
       "    .dataframe thead th {\n",
       "        text-align: right;\n",
       "    }\n",
       "</style>\n",
       "<table border=\"1\" class=\"dataframe\">\n",
       "  <thead>\n",
       "    <tr style=\"text-align: right;\">\n",
       "      <th></th>\n",
       "      <th>additives_n</th>\n",
       "      <th>nutriscore_score</th>\n",
       "      <th>completeness</th>\n",
       "      <th>energy-kcal_100g</th>\n",
       "      <th>fat_100g</th>\n",
       "      <th>saturated-fat_100g</th>\n",
       "      <th>carbohydrates_100g</th>\n",
       "      <th>sugars_100g</th>\n",
       "      <th>fiber_100g</th>\n",
       "      <th>proteins_100g</th>\n",
       "      <th>salt_100g</th>\n",
       "      <th>sodium_100g</th>\n",
       "    </tr>\n",
       "  </thead>\n",
       "  <tbody>\n",
       "    <tr>\n",
       "      <th>count</th>\n",
       "      <td>795474.00000</td>\n",
       "      <td>830848.00000</td>\n",
       "      <td>2521284.00000</td>\n",
       "      <td>2026062.00000</td>\n",
       "      <td>2060162.00000</td>\n",
       "      <td>2015555.00000</td>\n",
       "      <td>2060239.00000</td>\n",
       "      <td>2041516.00000</td>\n",
       "      <td>883351.00000</td>\n",
       "      <td>2062183.00000</td>\n",
       "      <td>1846813.00000</td>\n",
       "      <td>1846811.00000</td>\n",
       "    </tr>\n",
       "    <tr>\n",
       "      <th>mean</th>\n",
       "      <td>2.00386</td>\n",
       "      <td>9.27281</td>\n",
       "      <td>0.43510</td>\n",
       "      <td>2589872819914326529440128407552839909376.00000</td>\n",
       "      <td>53393873.80576</td>\n",
       "      <td>6.56818</td>\n",
       "      <td>28.84394</td>\n",
       "      <td>48983220.34137</td>\n",
       "      <td>111091457886636740159570212326822543097856.00000</td>\n",
       "      <td>264937283280128331229452000558065619687673870375548501803937533263872.00000</td>\n",
       "      <td>130.98710</td>\n",
       "      <td>52.39489</td>\n",
       "    </tr>\n",
       "    <tr>\n",
       "      <th>std</th>\n",
       "      <td>2.86705</td>\n",
       "      <td>8.67334</td>\n",
       "      <td>0.20070</td>\n",
       "      <td>3686419913659886127201702344282880344064000.00000</td>\n",
       "      <td>76637619083.62585</td>\n",
       "      <td>2135.42293</td>\n",
       "      <td>106.96580</td>\n",
       "      <td>69988003948.24004</td>\n",
       "      <td>104411255667646192809603029231569618673336320.00000</td>\n",
       "      <td>380457964311813993284488983414207816359832628273320396596193803322261504.00000</td>\n",
       "      <td>166630.36266</td>\n",
       "      <td>66652.18115</td>\n",
       "    </tr>\n",
       "    <tr>\n",
       "      <th>min</th>\n",
       "      <td>0.00000</td>\n",
       "      <td>-15.00000</td>\n",
       "      <td>0.05000</td>\n",
       "      <td>-53.00000</td>\n",
       "      <td>-5.00000</td>\n",
       "      <td>0.00000</td>\n",
       "      <td>0.00000</td>\n",
       "      <td>-17.00000</td>\n",
       "      <td>-6.70000</td>\n",
       "      <td>-46.00000</td>\n",
       "      <td>0.00000</td>\n",
       "      <td>0.00000</td>\n",
       "    </tr>\n",
       "    <tr>\n",
       "      <th>25%</th>\n",
       "      <td>0.00000</td>\n",
       "      <td>2.00000</td>\n",
       "      <td>0.27500</td>\n",
       "      <td>100.00000</td>\n",
       "      <td>0.77000</td>\n",
       "      <td>0.10000</td>\n",
       "      <td>3.70000</td>\n",
       "      <td>0.60000</td>\n",
       "      <td>0.00000</td>\n",
       "      <td>1.30000</td>\n",
       "      <td>0.10000</td>\n",
       "      <td>0.04000</td>\n",
       "    </tr>\n",
       "    <tr>\n",
       "      <th>50%</th>\n",
       "      <td>1.00000</td>\n",
       "      <td>10.00000</td>\n",
       "      <td>0.37500</td>\n",
       "      <td>259.00000</td>\n",
       "      <td>6.99300</td>\n",
       "      <td>1.75439</td>\n",
       "      <td>16.00000</td>\n",
       "      <td>3.57000</td>\n",
       "      <td>1.60000</td>\n",
       "      <td>6.00000</td>\n",
       "      <td>0.60000</td>\n",
       "      <td>0.24000</td>\n",
       "    </tr>\n",
       "    <tr>\n",
       "      <th>75%</th>\n",
       "      <td>3.00000</td>\n",
       "      <td>16.00000</td>\n",
       "      <td>0.50000</td>\n",
       "      <td>400.00000</td>\n",
       "      <td>21.00000</td>\n",
       "      <td>6.91489</td>\n",
       "      <td>53.00000</td>\n",
       "      <td>17.30000</td>\n",
       "      <td>3.80000</td>\n",
       "      <td>12.10000</td>\n",
       "      <td>1.40000</td>\n",
       "      <td>0.56000</td>\n",
       "    </tr>\n",
       "    <tr>\n",
       "      <th>max</th>\n",
       "      <td>50.00000</td>\n",
       "      <td>40.00000</td>\n",
       "      <td>1.10000</td>\n",
       "      <td>5247242905261260059622710197021209472366804992.00000</td>\n",
       "      <td>110000001253376.00000</td>\n",
       "      <td>3030330.00000</td>\n",
       "      <td>99999.00000</td>\n",
       "      <td>100000000376832.00000</td>\n",
       "      <td>98132750415618458948254772063588927681226342400.00000</td>\n",
       "      <td>546349161646464884653542049099444720358877924700774865896742673378562801664.00000</td>\n",
       "      <td>226173900.00000</td>\n",
       "      <td>90469560.00000</td>\n",
       "    </tr>\n",
       "  </tbody>\n",
       "</table>\n",
       "</div>"
      ],
      "text/plain": [
       "       additives_n  nutriscore_score  completeness  \\\n",
       "count 795474.00000 830848.00000      2521284.00000   \n",
       "mean  2.00386      9.27281           0.43510         \n",
       "std   2.86705      8.67334           0.20070         \n",
       "min   0.00000      -15.00000         0.05000         \n",
       "25%   0.00000      2.00000           0.27500         \n",
       "50%   1.00000      10.00000          0.37500         \n",
       "75%   3.00000      16.00000          0.50000         \n",
       "max   50.00000     40.00000          1.10000         \n",
       "\n",
       "                                          energy-kcal_100g  \\\n",
       "count 2026062.00000                                          \n",
       "mean  2589872819914326529440128407552839909376.00000         \n",
       "std   3686419913659886127201702344282880344064000.00000      \n",
       "min   -53.00000                                              \n",
       "25%   100.00000                                              \n",
       "50%   259.00000                                              \n",
       "75%   400.00000                                              \n",
       "max   5247242905261260059622710197021209472366804992.00000   \n",
       "\n",
       "                   fat_100g  saturated-fat_100g  carbohydrates_100g  \\\n",
       "count 2060162.00000         2015555.00000       2060239.00000         \n",
       "mean  53393873.80576        6.56818             28.84394              \n",
       "std   76637619083.62585     2135.42293          106.96580             \n",
       "min   -5.00000              0.00000             0.00000               \n",
       "25%   0.77000               0.10000             3.70000               \n",
       "50%   6.99300               1.75439             16.00000              \n",
       "75%   21.00000              6.91489             53.00000              \n",
       "max   110000001253376.00000 3030330.00000       99999.00000           \n",
       "\n",
       "                sugars_100g  \\\n",
       "count 2041516.00000           \n",
       "mean  48983220.34137          \n",
       "std   69988003948.24004       \n",
       "min   -17.00000               \n",
       "25%   0.60000                 \n",
       "50%   3.57000                 \n",
       "75%   17.30000                \n",
       "max   100000000376832.00000   \n",
       "\n",
       "                                                 fiber_100g  \\\n",
       "count 883351.00000                                            \n",
       "mean  111091457886636740159570212326822543097856.00000        \n",
       "std   104411255667646192809603029231569618673336320.00000     \n",
       "min   -6.70000                                                \n",
       "25%   0.00000                                                 \n",
       "50%   1.60000                                                 \n",
       "75%   3.80000                                                 \n",
       "max   98132750415618458948254772063588927681226342400.00000   \n",
       "\n",
       "                                                                          proteins_100g  \\\n",
       "count 2062183.00000                                                                       \n",
       "mean  264937283280128331229452000558065619687673870375548501803937533263872.00000         \n",
       "std   380457964311813993284488983414207816359832628273320396596193803322261504.00000      \n",
       "min   -46.00000                                                                           \n",
       "25%   1.30000                                                                             \n",
       "50%   6.00000                                                                             \n",
       "75%   12.10000                                                                            \n",
       "max   546349161646464884653542049099444720358877924700774865896742673378562801664.00000   \n",
       "\n",
       "            salt_100g    sodium_100g  \n",
       "count 1846813.00000   1846811.00000   \n",
       "mean  130.98710       52.39489        \n",
       "std   166630.36266    66652.18115     \n",
       "min   0.00000         0.00000         \n",
       "25%   0.10000         0.04000         \n",
       "50%   0.60000         0.24000         \n",
       "75%   1.40000         0.56000         \n",
       "max   226173900.00000 90469560.00000  "
      ]
     },
     "execution_count": 30,
     "metadata": {},
     "output_type": "execute_result"
    }
   ],
   "source": [
    "df_cleaned.describe()"
   ]
  },
  {
   "cell_type": "code",
   "execution_count": 31,
   "metadata": {},
   "outputs": [
    {
     "name": "stdout",
     "output_type": "stream",
     "text": [
      "<class 'pandas.core.frame.DataFrame'>\n",
      "Int64Index: 2521285 entries, 1277899 to 1927742\n",
      "Data columns (total 26 columns):\n",
      " #   Column                     Dtype  \n",
      "---  ------                     -----  \n",
      " 0   product_name               object \n",
      " 1   brands                     object \n",
      " 2   categories                 object \n",
      " 3   countries_en               object \n",
      " 4   ingredients_text           object \n",
      " 5   ingredients_analysis_tags  object \n",
      " 6   additives_n                float64\n",
      " 7   nutriscore_score           float64\n",
      " 8   nutriscore_grade           object \n",
      " 9   pnns_groups_1              object \n",
      " 10  pnns_groups_2              object \n",
      " 11  food_groups                object \n",
      " 12  ecoscore_grade             object \n",
      " 13  nutrient_levels_tags       object \n",
      " 14  completeness               float64\n",
      " 15  main_category_en           object \n",
      " 16  energy-kcal_100g           float64\n",
      " 17  energy_100g                object \n",
      " 18  fat_100g                   float64\n",
      " 19  saturated-fat_100g         float64\n",
      " 20  carbohydrates_100g         float64\n",
      " 21  sugars_100g                float64\n",
      " 22  fiber_100g                 float64\n",
      " 23  proteins_100g              float64\n",
      " 24  salt_100g                  float64\n",
      " 25  sodium_100g                float64\n",
      "dtypes: float64(12), object(14)\n",
      "memory usage: 519.4+ MB\n"
     ]
    }
   ],
   "source": [
    "df_cleaned.info()"
   ]
  },
  {
   "cell_type": "markdown",
   "metadata": {},
   "source": [
    "Remarques: \n",
    "- Le type de la variable \" energy_100g\" est 'object' alors qe normalement c'est 'float64'.\n",
    "- On peut définir le seuil des indicateur de nutri tel que le sucre et le sel dans l'interval  [0,100]. \n",
    "- On peut définir le seuil de l'energie l'interval [0,2700] calorie.\n"
   ]
  },
  {
   "cell_type": "markdown",
   "metadata": {},
   "source": [
    "La list nutriscore grade contient 'a','b','c','d','e' ou 'NaN'. l'existance d'une autre lettre représente une erreur (valeur aberrante)."
   ]
  },
  {
   "cell_type": "code",
   "execution_count": 32,
   "metadata": {},
   "outputs": [],
   "source": [
    "list_nutriscore_grade = ['a','b','c','d','e']"
   ]
  },
  {
   "cell_type": "code",
   "execution_count": 33,
   "metadata": {},
   "outputs": [
    {
     "name": "stdout",
     "output_type": "stream",
     "text": [
      "Nombre de valeurs aberrantes pour le nutriscore_grade est: 0\n"
     ]
    }
   ],
   "source": [
    "print(\"Nombre de valeurs aberrantes pour le nutriscore_grade est: {}\".format(df_cleaned[(~df_cleaned['nutriscore_grade'].isin(list_nutriscore_grade)) & (~df_cleaned['nutriscore_grade'].isna())].count().sum()))"
   ]
  },
  {
   "cell_type": "markdown",
   "metadata": {},
   "source": [
    "> Les données nutritionnelles représentent 100g de produits. Si leur valeur est au dessus de 100  ou inférieur à 0 , cela veut dire qu'il y a une erreur (valeurs aberrantes).  "
   ]
  },
  {
   "cell_type": "code",
   "execution_count": 34,
   "metadata": {
    "scrolled": true
   },
   "outputs": [
    {
     "name": "stdout",
     "output_type": "stream",
     "text": [
      "Nombre des valeurs aberrantes pour le sucre : 3919\n",
      "Nombre des valeurs aberrantes pour le fat : 6816\n",
      "Nombre des valeurs aberrantes pour le saturated-fat : 2882\n",
      "Nombre des valeurs aberrantes pour les carbohydrates : 10221\n",
      "Nombre des valeurs aberrantes pour les fibre : 3245\n",
      "Nombre des valeurs aberrantes pour les proteins : 5452\n",
      "Nombre des valeurs aberrantes pour le sel : 26071\n",
      "Nombre des valeurs aberrantes pour le sodium : 17708\n"
     ]
    }
   ],
   "source": [
    "print(\"Nombre des valeurs aberrantes pour le sucre :\", df_cleaned[(df_cleaned['sugars_100g'] > 100) |(df_cleaned['sugars_100g'] < 0) ].count().sum())\n",
    "print(\"Nombre des valeurs aberrantes pour le fat :\", df_cleaned[(df_cleaned['fat_100g'] > 100) | (df_cleaned['fat_100g'] < 0)].count().sum())\n",
    "print(\"Nombre des valeurs aberrantes pour le saturated-fat :\", df_cleaned[(df_cleaned['saturated-fat_100g'] > 100) | (df_cleaned['saturated-fat_100g'] < 0)].count().sum())\n",
    "print(\"Nombre des valeurs aberrantes pour les carbohydrates :\", df_cleaned[(df_cleaned['carbohydrates_100g'] > 100) | (df_cleaned['carbohydrates_100g'] < 0)].count().sum())\n",
    "print(\"Nombre des valeurs aberrantes pour les fibre :\", df_cleaned[(df_cleaned['fiber_100g'] > 100) | (df_cleaned['fiber_100g'] < 0)].count().sum())\n",
    "print(\"Nombre des valeurs aberrantes pour les proteins :\", df_cleaned[(df_cleaned['proteins_100g'] > 100) | (df_cleaned['proteins_100g'] < 0)].count().sum())\n",
    "print(\"Nombre des valeurs aberrantes pour le sel :\", df_cleaned[(df_cleaned['salt_100g'] > 100) | (df_cleaned['salt_100g'] < 0)].count().sum())\n",
    "print(\"Nombre des valeurs aberrantes pour le sodium :\", df_cleaned[(df_cleaned['sodium_100g'] > 100) | (df_cleaned['sodium_100g'] < 0)].count().sum())\n"
   ]
  },
  {
   "cell_type": "code",
   "execution_count": 35,
   "metadata": {},
   "outputs": [],
   "source": [
    "def delete_outliers_indicateurs(dataframe, columns):\n",
    "    # supprimer les outliers qui sont >100 et <0 pour toutes les colonnes d'inducateur nutri de 100g.\n",
    "    df= dataframe.copy()\n",
    "    for col in columns: \n",
    "        print('le nombre d\\'outliers à traiter pour la colonne',\n",
    "              col,'est {}'.format(dataframe[(dataframe[col] > 100) |(dataframe[col] < 0) ].count().sum()))\n",
    "      \n",
    "        df.loc[df[(df[col] > 100)|(df[col] < 0)].index, col] = np.nan\n",
    "    return df"
   ]
  },
  {
   "cell_type": "code",
   "execution_count": 36,
   "metadata": {},
   "outputs": [],
   "source": [
    "# la liste des valeurs d'indicateur nutritionnels\n",
    "list_col_indicateur_nutri= ['sugars_100g','fat_100g','saturated-fat_100g','carbohydrates_100g','fiber_100g','proteins_100g','salt_100g','sodium_100g']"
   ]
  },
  {
   "cell_type": "code",
   "execution_count": 37,
   "metadata": {},
   "outputs": [
    {
     "name": "stdout",
     "output_type": "stream",
     "text": [
      "le nombre d'outliers à traiter pour la colonne sugars_100g est 3919\n",
      "le nombre d'outliers à traiter pour la colonne fat_100g est 6816\n",
      "le nombre d'outliers à traiter pour la colonne saturated-fat_100g est 2882\n",
      "le nombre d'outliers à traiter pour la colonne carbohydrates_100g est 10221\n",
      "le nombre d'outliers à traiter pour la colonne fiber_100g est 3245\n",
      "le nombre d'outliers à traiter pour la colonne proteins_100g est 5452\n",
      "le nombre d'outliers à traiter pour la colonne salt_100g est 26071\n",
      "le nombre d'outliers à traiter pour la colonne sodium_100g est 17708\n"
     ]
    }
   ],
   "source": [
    "df_cleaned_basic = delete_outliers_indicateurs(df_cleaned,list_col_indicateur_nutri)"
   ]
  },
  {
   "cell_type": "code",
   "execution_count": 38,
   "metadata": {},
   "outputs": [],
   "source": [
    "def delete_outliers_with_quantile(df,column):\n",
    "    #Suppression des outliers du centile extrême\n",
    "    dataframe = df.copy()   \n",
    "    for col in column:\n",
    "        \n",
    "        q1 = dataframe[col].quantile(0.25)\n",
    "        q3 = dataframe[col].quantile(0.75)\n",
    "        iqr = q3-q1\n",
    "       \n",
    "        \n",
    "        # calculer les Q1-1.5*IQR et Q3+1.5*IQR\n",
    "        lower = q1 - 1.5*iqr\n",
    "      \n",
    "        upper = q3 + 1.5*iqr\n",
    "                    \n",
    "        dataframe[col] = np.where((dataframe[col] > upper)|(dataframe[col] < lower)|(dataframe[col]<0), np.nan, dataframe[col])\n",
    "\n",
    "    return dataframe\n",
    "    "
   ]
  },
  {
   "cell_type": "code",
   "execution_count": 39,
   "metadata": {},
   "outputs": [],
   "source": [
    "df_cleaned_percentiles = delete_outliers_with_quantile(df_cleaned,list_col_indicateur_nutri)"
   ]
  },
  {
   "cell_type": "markdown",
   "metadata": {},
   "source": [
    "On traite aussi les outliers des variables completess et additifs qui sont < 0 "
   ]
  },
  {
   "cell_type": "code",
   "execution_count": 40,
   "metadata": {},
   "outputs": [],
   "source": [
    "def delete_outliers_addiComplet(df,column):\n",
    "    '''Suppression des outliers du centile extrême'''\n",
    "    dataframe = df.copy()   \n",
    "    for col in column:\n",
    "        print('le nombre d\\'outliers à traiter pour la colonne',col,'est {}'.format(dataframe[(dataframe[col] < 0)].count().sum()))\n",
    "        dataframe.loc[dataframe[(dataframe[col] < 0)].index, col] = np.nan\n",
    "    return dataframe"
   ]
  },
  {
   "cell_type": "code",
   "execution_count": 41,
   "metadata": {},
   "outputs": [
    {
     "name": "stdout",
     "output_type": "stream",
     "text": [
      "le nombre d'outliers à traiter pour la colonne additives_n est 0\n",
      "le nombre d'outliers à traiter pour la colonne completeness est 0\n"
     ]
    }
   ],
   "source": [
    "df_cleaned_basic = delete_outliers_addiComplet(df_cleaned_basic,['additives_n','completeness'])"
   ]
  },
  {
   "cell_type": "code",
   "execution_count": 42,
   "metadata": {},
   "outputs": [
    {
     "data": {
      "text/html": [
       "<div>\n",
       "<style scoped>\n",
       "    .dataframe tbody tr th:only-of-type {\n",
       "        vertical-align: middle;\n",
       "    }\n",
       "\n",
       "    .dataframe tbody tr th {\n",
       "        vertical-align: top;\n",
       "    }\n",
       "\n",
       "    .dataframe thead th {\n",
       "        text-align: right;\n",
       "    }\n",
       "</style>\n",
       "<table border=\"1\" class=\"dataframe\">\n",
       "  <thead>\n",
       "    <tr style=\"text-align: right;\">\n",
       "      <th></th>\n",
       "      <th>additives_n</th>\n",
       "      <th>nutriscore_score</th>\n",
       "      <th>completeness</th>\n",
       "      <th>energy-kcal_100g</th>\n",
       "      <th>fat_100g</th>\n",
       "      <th>saturated-fat_100g</th>\n",
       "      <th>carbohydrates_100g</th>\n",
       "      <th>sugars_100g</th>\n",
       "      <th>fiber_100g</th>\n",
       "      <th>proteins_100g</th>\n",
       "      <th>salt_100g</th>\n",
       "      <th>sodium_100g</th>\n",
       "    </tr>\n",
       "  </thead>\n",
       "  <tbody>\n",
       "    <tr>\n",
       "      <th>count</th>\n",
       "      <td>795474.00000</td>\n",
       "      <td>830848.00000</td>\n",
       "      <td>2521284.00000</td>\n",
       "      <td>2026062.00000</td>\n",
       "      <td>1986170.00000</td>\n",
       "      <td>1864236.00000</td>\n",
       "      <td>2059703.00000</td>\n",
       "      <td>1829082.00000</td>\n",
       "      <td>813563.00000</td>\n",
       "      <td>1989475.00000</td>\n",
       "      <td>1723080.00000</td>\n",
       "      <td>1723161.00000</td>\n",
       "    </tr>\n",
       "    <tr>\n",
       "      <th>mean</th>\n",
       "      <td>2.00386</td>\n",
       "      <td>9.27281</td>\n",
       "      <td>0.43510</td>\n",
       "      <td>2589872819914326529440128407552839909376.00000</td>\n",
       "      <td>11.23676</td>\n",
       "      <td>3.34817</td>\n",
       "      <td>28.40892</td>\n",
       "      <td>7.52357</td>\n",
       "      <td>2.05169</td>\n",
       "      <td>7.44241</td>\n",
       "      <td>0.73036</td>\n",
       "      <td>0.29220</td>\n",
       "    </tr>\n",
       "    <tr>\n",
       "      <th>std</th>\n",
       "      <td>2.86705</td>\n",
       "      <td>8.67334</td>\n",
       "      <td>0.20070</td>\n",
       "      <td>3686419913659886127201702344282880344064000.00000</td>\n",
       "      <td>12.56348</td>\n",
       "      <td>4.37819</td>\n",
       "      <td>27.88336</td>\n",
       "      <td>10.33625</td>\n",
       "      <td>2.33209</td>\n",
       "      <td>7.23173</td>\n",
       "      <td>0.77417</td>\n",
       "      <td>0.30975</td>\n",
       "    </tr>\n",
       "    <tr>\n",
       "      <th>min</th>\n",
       "      <td>0.00000</td>\n",
       "      <td>-15.00000</td>\n",
       "      <td>0.05000</td>\n",
       "      <td>-53.00000</td>\n",
       "      <td>0.00000</td>\n",
       "      <td>0.00000</td>\n",
       "      <td>0.00000</td>\n",
       "      <td>0.00000</td>\n",
       "      <td>0.00000</td>\n",
       "      <td>0.00000</td>\n",
       "      <td>0.00000</td>\n",
       "      <td>0.00000</td>\n",
       "    </tr>\n",
       "    <tr>\n",
       "      <th>25%</th>\n",
       "      <td>0.00000</td>\n",
       "      <td>2.00000</td>\n",
       "      <td>0.27500</td>\n",
       "      <td>100.00000</td>\n",
       "      <td>0.60000</td>\n",
       "      <td>0.04000</td>\n",
       "      <td>3.70000</td>\n",
       "      <td>0.50000</td>\n",
       "      <td>0.00000</td>\n",
       "      <td>1.18000</td>\n",
       "      <td>0.07000</td>\n",
       "      <td>0.02800</td>\n",
       "    </tr>\n",
       "    <tr>\n",
       "      <th>50%</th>\n",
       "      <td>1.00000</td>\n",
       "      <td>10.00000</td>\n",
       "      <td>0.37500</td>\n",
       "      <td>259.00000</td>\n",
       "      <td>6.12000</td>\n",
       "      <td>1.30000</td>\n",
       "      <td>16.00000</td>\n",
       "      <td>2.90000</td>\n",
       "      <td>1.30000</td>\n",
       "      <td>5.63000</td>\n",
       "      <td>0.50000</td>\n",
       "      <td>0.20000</td>\n",
       "    </tr>\n",
       "    <tr>\n",
       "      <th>75%</th>\n",
       "      <td>3.00000</td>\n",
       "      <td>16.00000</td>\n",
       "      <td>0.50000</td>\n",
       "      <td>400.00000</td>\n",
       "      <td>19.00000</td>\n",
       "      <td>5.05000</td>\n",
       "      <td>53.00000</td>\n",
       "      <td>10.20000</td>\n",
       "      <td>3.30000</td>\n",
       "      <td>11.10000</td>\n",
       "      <td>1.20000</td>\n",
       "      <td>0.48000</td>\n",
       "    </tr>\n",
       "    <tr>\n",
       "      <th>max</th>\n",
       "      <td>50.00000</td>\n",
       "      <td>40.00000</td>\n",
       "      <td>1.10000</td>\n",
       "      <td>5247242905261260059622710197021209472366804992.00000</td>\n",
       "      <td>51.33333</td>\n",
       "      <td>17.13000</td>\n",
       "      <td>126.66667</td>\n",
       "      <td>42.34375</td>\n",
       "      <td>9.50000</td>\n",
       "      <td>28.30000</td>\n",
       "      <td>3.35000</td>\n",
       "      <td>1.34000</td>\n",
       "    </tr>\n",
       "  </tbody>\n",
       "</table>\n",
       "</div>"
      ],
      "text/plain": [
       "       additives_n  nutriscore_score  completeness  \\\n",
       "count 795474.00000 830848.00000      2521284.00000   \n",
       "mean  2.00386      9.27281           0.43510         \n",
       "std   2.86705      8.67334           0.20070         \n",
       "min   0.00000      -15.00000         0.05000         \n",
       "25%   0.00000      2.00000           0.27500         \n",
       "50%   1.00000      10.00000          0.37500         \n",
       "75%   3.00000      16.00000          0.50000         \n",
       "max   50.00000     40.00000          1.10000         \n",
       "\n",
       "                                          energy-kcal_100g      fat_100g  \\\n",
       "count 2026062.00000                                        1986170.00000   \n",
       "mean  2589872819914326529440128407552839909376.00000       11.23676        \n",
       "std   3686419913659886127201702344282880344064000.00000    12.56348        \n",
       "min   -53.00000                                            0.00000         \n",
       "25%   100.00000                                            0.60000         \n",
       "50%   259.00000                                            6.12000         \n",
       "75%   400.00000                                            19.00000        \n",
       "max   5247242905261260059622710197021209472366804992.00000 51.33333        \n",
       "\n",
       "       saturated-fat_100g  carbohydrates_100g   sugars_100g   fiber_100g  \\\n",
       "count 1864236.00000       2059703.00000       1829082.00000 813563.00000   \n",
       "mean  3.34817             28.40892            7.52357       2.05169        \n",
       "std   4.37819             27.88336            10.33625      2.33209        \n",
       "min   0.00000             0.00000             0.00000       0.00000        \n",
       "25%   0.04000             3.70000             0.50000       0.00000        \n",
       "50%   1.30000             16.00000            2.90000       1.30000        \n",
       "75%   5.05000             53.00000            10.20000      3.30000        \n",
       "max   17.13000            126.66667           42.34375      9.50000        \n",
       "\n",
       "       proteins_100g     salt_100g   sodium_100g  \n",
       "count 1989475.00000  1723080.00000 1723161.00000  \n",
       "mean  7.44241        0.73036       0.29220        \n",
       "std   7.23173        0.77417       0.30975        \n",
       "min   0.00000        0.00000       0.00000        \n",
       "25%   1.18000        0.07000       0.02800        \n",
       "50%   5.63000        0.50000       0.20000        \n",
       "75%   11.10000       1.20000       0.48000        \n",
       "max   28.30000       3.35000       1.34000        "
      ]
     },
     "execution_count": 42,
     "metadata": {},
     "output_type": "execute_result"
    }
   ],
   "source": [
    "pd.options.display.float_format = '{:.5f}'.format\n",
    "df_cleaned_percentiles.describe()\n",
    "        "
   ]
  },
  {
   "cell_type": "markdown",
   "metadata": {},
   "source": [
    "Remarques : \n",
    " - tous les variable (hors le nutri-score) Sont > 0.\n",
    " - les valeurs des indicateurs nutritionnels (__100g) (hors energy) sont inclu [0,100]\n",
    "    "
   ]
  },
  {
   "cell_type": "code",
   "execution_count": 43,
   "metadata": {},
   "outputs": [],
   "source": [
    "del df_cleaned # libérer l'espace de la RAM"
   ]
  },
  {
   "cell_type": "code",
   "execution_count": 44,
   "metadata": {},
   "outputs": [
    {
     "data": {
      "text/plain": [
       "<matplotlib.axes._subplots.AxesSubplot at 0x21a40e11630>"
      ]
     },
     "execution_count": 44,
     "metadata": {},
     "output_type": "execute_result"
    },
    {
     "data": {
      "image/png": "[encoded data removed]",
      "text/plain": [
       "<Figure size 432x288 with 1 Axes>"
      ]
     },
     "metadata": {
      "needs_background": "light"
     },
     "output_type": "display_data"
    }
   ],
   "source": [
    "plt.title('Distribution de salt_100g après suppression des outliers')\n",
    "sns.distplot(df_cleaned_percentiles['salt_100g'].dropna(),bins=30)"
   ]
  },
  {
   "cell_type": "code",
   "execution_count": 45,
   "metadata": {},
   "outputs": [
    {
     "data": {
      "text/plain": [
       "Text(0.5, 1.0, 'Méthode par percentiles')"
      ]
     },
     "execution_count": 45,
     "metadata": {},
     "output_type": "execute_result"
    },
    {
     "data": {
      "image/png": "[encoded data removed]",
      "text/plain": [
       "<Figure size 720x432 with 2 Axes>"
      ]
     },
     "metadata": {
      "needs_background": "light"
     },
     "output_type": "display_data"
    }
   ],
   "source": [
    "f, axes = plt.subplots(1,2, figsize=(10,6))\n",
    "f.suptitle(\"Distribution de salt_100g après suppression des outliers\")\n",
    "ax1 = sns.distplot(df_cleaned_basic['salt_100g'].dropna(), ax=axes[0])\n",
    "ax1.set_title(\"Méthode par suppression de >100 et <0 \")\n",
    "ax2 = sns.distplot(df_cleaned_percentiles['salt_100g'].dropna(), ax=axes[1])\n",
    "ax2.set_title(\"Méthode par percentiles\")"
   ]
  },
  {
   "cell_type": "markdown",
   "metadata": {},
   "source": [
    "-   la suppression des outliers selon les quantiles peut fausser notre étude, donc on garde les outliers dans [0,100]"
   ]
  },
  {
   "cell_type": "code",
   "execution_count": 46,
   "metadata": {},
   "outputs": [],
   "source": [
    "del df_cleaned_percentiles"
   ]
  },
  {
   "cell_type": "markdown",
   "metadata": {},
   "source": [
    ">Pour chaque ligne dans le dataframe, la somme des indicateurs nutri ne doit pas dépasser les 100g."
   ]
  },
  {
   "cell_type": "code",
   "execution_count": 47,
   "metadata": {},
   "outputs": [
    {
     "data": {
      "text/plain": [
       "['sugars_100g',\n",
       " 'fat_100g',\n",
       " 'saturated-fat_100g',\n",
       " 'carbohydrates_100g',\n",
       " 'fiber_100g',\n",
       " 'proteins_100g',\n",
       " 'salt_100g',\n",
       " 'sodium_100g']"
      ]
     },
     "execution_count": 47,
     "metadata": {},
     "output_type": "execute_result"
    }
   ],
   "source": [
    "list_col_indicateur_nutri"
   ]
  },
  {
   "cell_type": "code",
   "execution_count": 48,
   "metadata": {},
   "outputs": [],
   "source": [
    "#les colonnes que leurs somme ne doit pas dépassé 100\n",
    "cols_to_sum=['fat_100g','carbohydrates_100g','fiber_100g','proteins_100g','salt_100g']"
   ]
  },
  {
   "cell_type": "code",
   "execution_count": 49,
   "metadata": {},
   "outputs": [
    {
     "name": "stdout",
     "output_type": "stream",
     "text": [
      "le nombre de ligne où la somme des indicateurs nutri (df_cleaned_basic) est > 100 =  83406\n"
     ]
    }
   ],
   "source": [
    "print('le nombre de ligne où la somme des indicateurs nutri (df_cleaned_basic) est > 100 = ',df_cleaned_basic[df_cleaned_basic[cols_to_sum].sum(axis=1) > 100].shape[0])"
   ]
  },
  {
   "cell_type": "code",
   "execution_count": 50,
   "metadata": {},
   "outputs": [],
   "source": [
    "#supprimer tous les lignes où la somme des indicateurs nutri est > 100\n",
    "df_cleaned_basic = df_cleaned_basic.drop(df_cleaned_basic[df_cleaned_basic[cols_to_sum].sum(axis=1) > 100].index)"
   ]
  },
  {
   "cell_type": "code",
   "execution_count": 51,
   "metadata": {},
   "outputs": [
    {
     "name": "stdout",
     "output_type": "stream",
     "text": [
      "Nombre de lignes restants =  2437879\n",
      "Nombre de colonnes restants =  26\n"
     ]
    }
   ],
   "source": [
    "nbr_ligne_colonne(df_cleaned_basic)"
   ]
  },
  {
   "cell_type": "markdown",
   "metadata": {},
   "source": [
    "Traitement des variable 'energy_100g' et 'energy-kcal_100g'"
   ]
  },
  {
   "cell_type": "code",
   "execution_count": 52,
   "metadata": {},
   "outputs": [],
   "source": [
    "# caster le type de la variable 'energy_100g' en float64.\n",
    "df_cleaned_basic['energy_100g'] = df_cleaned_basic['energy_100g'].astype(float)"
   ]
  },
  {
   "cell_type": "code",
   "execution_count": 53,
   "metadata": {},
   "outputs": [
    {
     "data": {
      "text/plain": [
       "energy_100g        0.18373\n",
       "energy-kcal_100g   0.20284\n",
       "dtype: float64"
      ]
     },
     "execution_count": 53,
     "metadata": {},
     "output_type": "execute_result"
    }
   ],
   "source": [
    "df_cleaned_basic[['energy_100g','energy-kcal_100g']].isna().mean(axis=0)"
   ]
  },
  {
   "cell_type": "markdown",
   "metadata": {},
   "source": [
    "le seuils des valeurs d'energies en général [0,3770]KJ"
   ]
  },
  {
   "cell_type": "code",
   "execution_count": 54,
   "metadata": {},
   "outputs": [
    {
     "name": "stdout",
     "output_type": "stream",
     "text": [
      "le nombre de ligne avec des valeurs d'energie > 3770 KJ est  5877\n",
      "le nombre de ligne avec des valeurs d'energie < 0 KJ est  3\n"
     ]
    }
   ],
   "source": [
    "print('le nombre de ligne avec des valeurs d\\'energie > 3770 KJ est ',df_cleaned_basic['energy_100g'][df_cleaned_basic['energy_100g'] > 3770].count().sum())\n",
    "print('le nombre de ligne avec des valeurs d\\'energie < 0 KJ est ',df_cleaned_basic['energy_100g'][df_cleaned_basic['energy_100g'] < 0].count().sum())\n"
   ]
  },
  {
   "cell_type": "code",
   "execution_count": 55,
   "metadata": {},
   "outputs": [],
   "source": [
    "def delete_outliers_energy_KJ(df,column):\n",
    "    '''Suppression des outliers du centile extrême'''\n",
    "    dataframe = df.copy()   \n",
    "    for col in column:\n",
    "        print('le nombre d\\'outliers à traiter pour la colonne',col,'est {}'.format(dataframe[(dataframe[col] > 3760)|(dataframe[col] < 0)].count().sum()))\n",
    "        dataframe.loc[dataframe[(dataframe[col] > 3770)|(dataframe[col] < 0)].index, col] = np.nan\n",
    "    return dataframe"
   ]
  },
  {
   "cell_type": "code",
   "execution_count": 56,
   "metadata": {},
   "outputs": [],
   "source": [
    "def delete_outliers_energy_Kcal(df,column):\n",
    "    '''Suppression des outliers du centile extrême'''\n",
    "    dataframe = df.copy()   \n",
    "    for col in column:\n",
    "        print('le nombre d\\'outliers à traiter pour la colonne',col,'est {}'.format(dataframe[(dataframe[col] > 2700)|(dataframe[col] < 0)].count().sum()))\n",
    "        dataframe.loc[dataframe[(dataframe[col] > 2700)|(dataframe[col] < 0)].index, col] = np.nan\n",
    "    return dataframe"
   ]
  },
  {
   "cell_type": "code",
   "execution_count": 57,
   "metadata": {},
   "outputs": [
    {
     "name": "stdout",
     "output_type": "stream",
     "text": [
      "le nombre d'outliers à traiter pour la colonne energy_100g est 231447\n"
     ]
    }
   ],
   "source": [
    "df_cleaned_basic = delete_outliers_energy_KJ(df_cleaned_basic,['energy_100g'])"
   ]
  },
  {
   "cell_type": "code",
   "execution_count": 58,
   "metadata": {},
   "outputs": [
    {
     "name": "stdout",
     "output_type": "stream",
     "text": [
      "le nombre d'outliers à traiter pour la colonne energy-kcal_100g est 5191\n"
     ]
    }
   ],
   "source": [
    "df_cleaned_basic = delete_outliers_energy_Kcal(df_cleaned_basic,['energy-kcal_100g'])"
   ]
  },
  {
   "cell_type": "code",
   "execution_count": 59,
   "metadata": {},
   "outputs": [
    {
     "data": {
      "text/plain": [
       "energy_100g        0.18614\n",
       "energy-kcal_100g   0.20302\n",
       "dtype: float64"
      ]
     },
     "execution_count": 59,
     "metadata": {},
     "output_type": "execute_result"
    }
   ],
   "source": [
    "df_cleaned_basic[['energy_100g','energy-kcal_100g']].isna().mean(axis=0)"
   ]
  },
  {
   "cell_type": "markdown",
   "metadata": {},
   "source": [
    "La varible 'energy_100g' est mieux rempli que la variable 'energy-kcal_100g', On décide de garder la variable 'energy_100g' pour le reste de ce travail"
   ]
  },
  {
   "cell_type": "markdown",
   "metadata": {},
   "source": [
    "> la corrélation linéaire des variables quantitatives "
   ]
  },
  {
   "cell_type": "code",
   "execution_count": 60,
   "metadata": {},
   "outputs": [
    {
     "data": {
      "text/plain": [
       "salt_100g     0.27490\n",
       "sodium_100g   0.27473\n",
       "dtype: float64"
      ]
     },
     "execution_count": 60,
     "metadata": {},
     "output_type": "execute_result"
    }
   ],
   "source": [
    "df_cleaned_basic[['salt_100g','sodium_100g']].isna().mean(axis=0)"
   ]
  },
  {
   "cell_type": "code",
   "execution_count": 61,
   "metadata": {
    "scrolled": true
   },
   "outputs": [
    {
     "name": "stdout",
     "output_type": "stream",
     "text": [
      "<class 'pandas.core.frame.DataFrame'>\n",
      "Int64Index: 2437879 entries, 1277899 to 1927742\n",
      "Data columns (total 26 columns):\n",
      " #   Column                     Dtype  \n",
      "---  ------                     -----  \n",
      " 0   product_name               object \n",
      " 1   brands                     object \n",
      " 2   categories                 object \n",
      " 3   countries_en               object \n",
      " 4   ingredients_text           object \n",
      " 5   ingredients_analysis_tags  object \n",
      " 6   additives_n                float64\n",
      " 7   nutriscore_score           float64\n",
      " 8   nutriscore_grade           object \n",
      " 9   pnns_groups_1              object \n",
      " 10  pnns_groups_2              object \n",
      " 11  food_groups                object \n",
      " 12  ecoscore_grade             object \n",
      " 13  nutrient_levels_tags       object \n",
      " 14  completeness               float64\n",
      " 15  main_category_en           object \n",
      " 16  energy-kcal_100g           float64\n",
      " 17  energy_100g                float64\n",
      " 18  fat_100g                   float64\n",
      " 19  saturated-fat_100g         float64\n",
      " 20  carbohydrates_100g         float64\n",
      " 21  sugars_100g                float64\n",
      " 22  fiber_100g                 float64\n",
      " 23  proteins_100g              float64\n",
      " 24  salt_100g                  float64\n",
      " 25  sodium_100g                float64\n",
      "dtypes: float64(13), object(13)\n",
      "memory usage: 582.2+ MB\n"
     ]
    }
   ],
   "source": [
    "df_cleaned_basic.info()"
   ]
  },
  {
   "cell_type": "code",
   "execution_count": 62,
   "metadata": {},
   "outputs": [],
   "source": [
    "var_quantitative = ['nutriscore_score','additives_n','completeness','energy-kcal_100g','energy_100g','fat_100g',\n",
    "                    'saturated-fat_100g','carbohydrates_100g','sugars_100g','fiber_100g',\n",
    "                   'proteins_100g','salt_100g','sodium_100g']"
   ]
  },
  {
   "cell_type": "code",
   "execution_count": 63,
   "metadata": {},
   "outputs": [
    {
     "data": {
      "image/png": "[encoded data removed]",
      "text/plain": [
       "<Figure size 792x648 with 2 Axes>"
      ]
     },
     "metadata": {
      "needs_background": "light"
     },
     "output_type": "display_data"
    }
   ],
   "source": [
    "corr = df_cleaned_basic[var_quantitative].corr()\n",
    "\n",
    "# Generate a mask for the upper triangle\n",
    "mask = np.triu(np.ones_like(corr, dtype=bool))\n",
    "\n",
    "# Set up the matplotlib figure\n",
    "f, ax = plt.subplots(figsize=(11, 9))\n",
    "\n",
    "# Generate a custom diverging colormap\n",
    "cmap = sns.diverging_palette(230, 20, as_cmap=True)\n",
    "\n",
    "# Draw the heatmap with the mask and correct aspect ratio\n",
    "sns.heatmap(corr, mask=mask, cmap=cmap, vmax=1, center=0,\n",
    "            square=True, linewidths=.5, cbar_kws={\"shrink\": .5});"
   ]
  },
  {
   "cell_type": "markdown",
   "metadata": {},
   "source": [
    "Observations: \n",
    "- forte correlation entre 'energy-kcal_100g'et'energy_100g' donc on supprime la variable qui a le + de Nan ; c'est à dire: energy-kcal_100g. \n",
    "- forte correlation entre 'salt_100g' et'sodium_100g' , et comme le sodium est un des composante du sel on décide de supprimer la variable sodium_100g. \n"
   ]
  },
  {
   "cell_type": "code",
   "execution_count": 64,
   "metadata": {},
   "outputs": [],
   "source": [
    "df_cleaned_basic = df_cleaned_basic.drop('energy-kcal_100g', axis=1)"
   ]
  },
  {
   "cell_type": "code",
   "execution_count": 65,
   "metadata": {},
   "outputs": [],
   "source": [
    "df_cleaned_basic = df_cleaned_basic.drop('sodium_100g', axis=1)"
   ]
  },
  {
   "cell_type": "markdown",
   "metadata": {},
   "source": [
    "il faut supprimer les lignes avec trop de valeurs manquantes avant de commencer le traitement de ces derniers"
   ]
  },
  {
   "cell_type": "code",
   "execution_count": 66,
   "metadata": {},
   "outputs": [
    {
     "name": "stdout",
     "output_type": "stream",
     "text": [
      "Nombre de lignes restants =  2437879\n",
      "Nombre de colonnes restants =  24\n"
     ]
    }
   ],
   "source": [
    "nbr_ligne_colonne(df_cleaned_basic)"
   ]
  },
  {
   "cell_type": "markdown",
   "metadata": {},
   "source": [
    "> Après le traitement des outliers, il faut supprimer les lignes qui ont beaucoup de valeurs manquantes.  "
   ]
  },
  {
   "cell_type": "code",
   "execution_count": 67,
   "metadata": {},
   "outputs": [],
   "source": [
    "#supprimer les lignes qui ont au moin : 12 valeur nan\n",
    "df_cleaned_basic.dropna(thresh=12,inplace=True)"
   ]
  },
  {
   "cell_type": "code",
   "execution_count": 68,
   "metadata": {},
   "outputs": [
    {
     "name": "stdout",
     "output_type": "stream",
     "text": [
      "Nombre de lignes restants =  2012228\n",
      "Nombre de colonnes restants =  24\n"
     ]
    }
   ],
   "source": [
    "nbr_ligne_colonne(df_cleaned_basic)"
   ]
  },
  {
   "cell_type": "code",
   "execution_count": 69,
   "metadata": {},
   "outputs": [
    {
     "data": {
      "text/html": [
       "<div>\n",
       "<style scoped>\n",
       "    .dataframe tbody tr th:only-of-type {\n",
       "        vertical-align: middle;\n",
       "    }\n",
       "\n",
       "    .dataframe tbody tr th {\n",
       "        vertical-align: top;\n",
       "    }\n",
       "\n",
       "    .dataframe thead th {\n",
       "        text-align: right;\n",
       "    }\n",
       "</style>\n",
       "<table border=\"1\" class=\"dataframe\">\n",
       "  <thead>\n",
       "    <tr style=\"text-align: right;\">\n",
       "      <th></th>\n",
       "      <th>additives_n</th>\n",
       "      <th>nutriscore_score</th>\n",
       "      <th>completeness</th>\n",
       "      <th>energy_100g</th>\n",
       "      <th>fat_100g</th>\n",
       "      <th>saturated-fat_100g</th>\n",
       "      <th>carbohydrates_100g</th>\n",
       "      <th>sugars_100g</th>\n",
       "      <th>fiber_100g</th>\n",
       "      <th>proteins_100g</th>\n",
       "      <th>salt_100g</th>\n",
       "    </tr>\n",
       "  </thead>\n",
       "  <tbody>\n",
       "    <tr>\n",
       "      <th>count</th>\n",
       "      <td>719053.00000</td>\n",
       "      <td>790901.00000</td>\n",
       "      <td>2012228.00000</td>\n",
       "      <td>1956010.00000</td>\n",
       "      <td>1959184.00000</td>\n",
       "      <td>1911146.00000</td>\n",
       "      <td>1958855.00000</td>\n",
       "      <td>1937384.00000</td>\n",
       "      <td>808056.00000</td>\n",
       "      <td>1960239.00000</td>\n",
       "      <td>1749953.00000</td>\n",
       "    </tr>\n",
       "    <tr>\n",
       "      <th>mean</th>\n",
       "      <td>2.03726</td>\n",
       "      <td>9.11681</td>\n",
       "      <td>0.46681</td>\n",
       "      <td>1093.81690</td>\n",
       "      <td>12.94811</td>\n",
       "      <td>4.85472</td>\n",
       "      <td>27.35228</td>\n",
       "      <td>12.76763</td>\n",
       "      <td>2.63473</td>\n",
       "      <td>8.48738</td>\n",
       "      <td>1.33299</td>\n",
       "    </tr>\n",
       "    <tr>\n",
       "      <th>std</th>\n",
       "      <td>2.90306</td>\n",
       "      <td>8.63760</td>\n",
       "      <td>0.20128</td>\n",
       "      <td>782.12915</td>\n",
       "      <td>17.06736</td>\n",
       "      <td>7.59987</td>\n",
       "      <td>27.51267</td>\n",
       "      <td>19.11944</td>\n",
       "      <td>4.53257</td>\n",
       "      <td>10.06359</td>\n",
       "      <td>4.25615</td>\n",
       "    </tr>\n",
       "    <tr>\n",
       "      <th>min</th>\n",
       "      <td>0.00000</td>\n",
       "      <td>-15.00000</td>\n",
       "      <td>0.10000</td>\n",
       "      <td>0.00000</td>\n",
       "      <td>0.00000</td>\n",
       "      <td>0.00000</td>\n",
       "      <td>0.00000</td>\n",
       "      <td>0.00000</td>\n",
       "      <td>0.00000</td>\n",
       "      <td>0.00000</td>\n",
       "      <td>0.00000</td>\n",
       "    </tr>\n",
       "    <tr>\n",
       "      <th>25%</th>\n",
       "      <td>0.00000</td>\n",
       "      <td>2.00000</td>\n",
       "      <td>0.27500</td>\n",
       "      <td>406.00000</td>\n",
       "      <td>0.60000</td>\n",
       "      <td>0.10000</td>\n",
       "      <td>3.53000</td>\n",
       "      <td>0.60000</td>\n",
       "      <td>0.00000</td>\n",
       "      <td>1.20000</td>\n",
       "      <td>0.10000</td>\n",
       "    </tr>\n",
       "    <tr>\n",
       "      <th>50%</th>\n",
       "      <td>1.00000</td>\n",
       "      <td>10.00000</td>\n",
       "      <td>0.40000</td>\n",
       "      <td>1039.00000</td>\n",
       "      <td>6.40000</td>\n",
       "      <td>1.70000</td>\n",
       "      <td>14.90000</td>\n",
       "      <td>3.57000</td>\n",
       "      <td>1.33333</td>\n",
       "      <td>5.80000</td>\n",
       "      <td>0.60000</td>\n",
       "    </tr>\n",
       "    <tr>\n",
       "      <th>75%</th>\n",
       "      <td>3.00000</td>\n",
       "      <td>16.00000</td>\n",
       "      <td>0.57500</td>\n",
       "      <td>1628.00000</td>\n",
       "      <td>20.00000</td>\n",
       "      <td>6.70000</td>\n",
       "      <td>51.40000</td>\n",
       "      <td>16.66667</td>\n",
       "      <td>3.40000</td>\n",
       "      <td>12.00000</td>\n",
       "      <td>1.40000</td>\n",
       "    </tr>\n",
       "    <tr>\n",
       "      <th>max</th>\n",
       "      <td>40.00000</td>\n",
       "      <td>40.00000</td>\n",
       "      <td>1.10000</td>\n",
       "      <td>3770.00000</td>\n",
       "      <td>100.00000</td>\n",
       "      <td>100.00000</td>\n",
       "      <td>100.00000</td>\n",
       "      <td>100.00000</td>\n",
       "      <td>100.00000</td>\n",
       "      <td>100.00000</td>\n",
       "      <td>100.00000</td>\n",
       "    </tr>\n",
       "  </tbody>\n",
       "</table>\n",
       "</div>"
      ],
      "text/plain": [
       "       additives_n  nutriscore_score  completeness   energy_100g  \\\n",
       "count 719053.00000 790901.00000      2012228.00000 1956010.00000   \n",
       "mean  2.03726      9.11681           0.46681       1093.81690      \n",
       "std   2.90306      8.63760           0.20128       782.12915       \n",
       "min   0.00000      -15.00000         0.10000       0.00000         \n",
       "25%   0.00000      2.00000           0.27500       406.00000       \n",
       "50%   1.00000      10.00000          0.40000       1039.00000      \n",
       "75%   3.00000      16.00000          0.57500       1628.00000      \n",
       "max   40.00000     40.00000          1.10000       3770.00000      \n",
       "\n",
       "           fat_100g  saturated-fat_100g  carbohydrates_100g   sugars_100g  \\\n",
       "count 1959184.00000 1911146.00000       1958855.00000       1937384.00000   \n",
       "mean  12.94811      4.85472             27.35228            12.76763        \n",
       "std   17.06736      7.59987             27.51267            19.11944        \n",
       "min   0.00000       0.00000             0.00000             0.00000         \n",
       "25%   0.60000       0.10000             3.53000             0.60000         \n",
       "50%   6.40000       1.70000             14.90000            3.57000         \n",
       "75%   20.00000      6.70000             51.40000            16.66667        \n",
       "max   100.00000     100.00000           100.00000           100.00000       \n",
       "\n",
       "        fiber_100g  proteins_100g     salt_100g  \n",
       "count 808056.00000 1960239.00000  1749953.00000  \n",
       "mean  2.63473      8.48738        1.33299        \n",
       "std   4.53257      10.06359       4.25615        \n",
       "min   0.00000      0.00000        0.00000        \n",
       "25%   0.00000      1.20000        0.10000        \n",
       "50%   1.33333      5.80000        0.60000        \n",
       "75%   3.40000      12.00000       1.40000        \n",
       "max   100.00000    100.00000      100.00000      "
      ]
     },
     "execution_count": 69,
     "metadata": {},
     "output_type": "execute_result"
    }
   ],
   "source": [
    "df_cleaned_basic.describe()"
   ]
  },
  {
   "cell_type": "markdown",
   "metadata": {},
   "source": [
    "## Traitement des Valeurs manquantes"
   ]
  },
  {
   "cell_type": "markdown",
   "metadata": {},
   "source": [
    "### Imputation avec une valeur constante"
   ]
  },
  {
   "cell_type": "code",
   "execution_count": 70,
   "metadata": {},
   "outputs": [
    {
     "data": {
      "text/plain": [
       "['product_name',\n",
       " 'brands',\n",
       " 'categories',\n",
       " 'countries_en',\n",
       " 'ingredients_text',\n",
       " 'ingredients_analysis_tags',\n",
       " 'pnns_groups_1',\n",
       " 'pnns_groups_2',\n",
       " 'nutriscore_grade',\n",
       " 'ecoscore_grade',\n",
       " 'food_groups',\n",
       " 'nutrient_levels_tags',\n",
       " 'main_category_en']"
      ]
     },
     "execution_count": 70,
     "metadata": {},
     "output_type": "execute_result"
    }
   ],
   "source": [
    "col_qualitative"
   ]
  },
  {
   "cell_type": "markdown",
   "metadata": {},
   "source": [
    "Remplaçons les valeurs manquantes des 'catégories','product_name', et 'countries_en' par la valeur \"unknown\" au lieu de \"NaN\""
   ]
  },
  {
   "cell_type": "code",
   "execution_count": 71,
   "metadata": {},
   "outputs": [],
   "source": [
    "df_cleaned_basic[\"categories\"].fillna(\"unknown\", inplace=True)"
   ]
  },
  {
   "cell_type": "code",
   "execution_count": 72,
   "metadata": {},
   "outputs": [],
   "source": [
    "df_cleaned_basic[\"product_name\"].fillna(\"unknown\", inplace=True)"
   ]
  },
  {
   "cell_type": "code",
   "execution_count": 73,
   "metadata": {},
   "outputs": [],
   "source": [
    "df_cleaned_basic[\"countries_en\"].fillna(\"unknown\", inplace=True)"
   ]
  },
  {
   "cell_type": "code",
   "execution_count": 74,
   "metadata": {},
   "outputs": [
    {
     "data": {
      "text/plain": [
       "<matplotlib.axes._subplots.AxesSubplot at 0x21a40ecfc18>"
      ]
     },
     "execution_count": 74,
     "metadata": {},
     "output_type": "execute_result"
    },
    {
     "data": {
      "image/png": "[encoded data removed]",
      "text/plain": [
       "<Figure size 1800x720 with 3 Axes>"
      ]
     },
     "metadata": {
      "needs_background": "light"
     },
     "output_type": "display_data"
    }
   ],
   "source": [
    "msno.bar(df_cleaned_basic)"
   ]
  },
  {
   "cell_type": "markdown",
   "metadata": {},
   "source": [
    "### Imputation avec le mode"
   ]
  },
  {
   "cell_type": "code",
   "execution_count": 75,
   "metadata": {},
   "outputs": [],
   "source": [
    "col_qualitative_keep = [ # delete nutriscore_grade et ecoscore_grade\n",
    " 'brands',\n",
    " 'ingredients_text',\n",
    " 'ingredients_analysis_tags',\n",
    " 'pnns_groups_1',\n",
    " 'pnns_groups_2',\n",
    " 'food_groups',\n",
    " 'nutrient_levels_tags',\n",
    " 'main_category_en']"
   ]
  },
  {
   "cell_type": "code",
   "execution_count": 76,
   "metadata": {},
   "outputs": [],
   "source": [
    "df_imput_mode = df_cleaned_basic.copy()\n",
    "for cat in col_qualitative_keep: \n",
    "    df_imput_mode[cat].fillna(df_cleaned_basic[cat].mode()[0], inplace=True)"
   ]
  },
  {
   "cell_type": "code",
   "execution_count": 77,
   "metadata": {},
   "outputs": [
    {
     "data": {
      "text/plain": [
       "<matplotlib.axes._subplots.AxesSubplot at 0x21a40d78710>"
      ]
     },
     "execution_count": 77,
     "metadata": {},
     "output_type": "execute_result"
    },
    {
     "data": {
      "image/png": "[encoded data removed]",
      "text/plain": [
       "<Figure size 1800x720 with 3 Axes>"
      ]
     },
     "metadata": {
      "needs_background": "light"
     },
     "output_type": "display_data"
    }
   ],
   "source": [
    "msno.bar(df_imput_mode)"
   ]
  },
  {
   "cell_type": "code",
   "execution_count": 78,
   "metadata": {},
   "outputs": [
    {
     "name": "stdout",
     "output_type": "stream",
     "text": [
      "Nombre de lignes restants =  2012228\n",
      "Nombre de colonnes restants =  24\n"
     ]
    }
   ],
   "source": [
    "nbr_ligne_colonne(df_imput_mode)"
   ]
  },
  {
   "cell_type": "markdown",
   "metadata": {},
   "source": [
    "On observe que tous les variables qualitatives sont rempli à 100% . "
   ]
  },
  {
   "cell_type": "markdown",
   "metadata": {},
   "source": [
    "### Imputation avec  IterativeImputer "
   ]
  },
  {
   "cell_type": "code",
   "execution_count": 79,
   "metadata": {},
   "outputs": [],
   "source": [
    "#del df_cleaned_basic"
   ]
  },
  {
   "cell_type": "code",
   "execution_count": 80,
   "metadata": {},
   "outputs": [],
   "source": [
    "# explicitly require this experimental feature\n",
    "from sklearn.experimental import enable_iterative_imputer  # noqa\n",
    "# now you can import normally from sklearn.impute\n",
    "from sklearn.impute import IterativeImputer"
   ]
  },
  {
   "cell_type": "code",
   "execution_count": 81,
   "metadata": {},
   "outputs": [
    {
     "data": {
      "text/plain": [
       "['nutriscore_score',\n",
       " 'additives_n',\n",
       " 'completeness',\n",
       " 'energy-kcal_100g',\n",
       " 'energy_100g',\n",
       " 'fat_100g',\n",
       " 'saturated-fat_100g',\n",
       " 'carbohydrates_100g',\n",
       " 'sugars_100g',\n",
       " 'fiber_100g',\n",
       " 'proteins_100g',\n",
       " 'salt_100g',\n",
       " 'sodium_100g']"
      ]
     },
     "execution_count": 81,
     "metadata": {},
     "output_type": "execute_result"
    }
   ],
   "source": [
    "var_quantitative"
   ]
  },
  {
   "cell_type": "code",
   "execution_count": 82,
   "metadata": {},
   "outputs": [],
   "source": [
    "var_quantitative_keep = [ 'additives_n', # delete nutri_score\n",
    " 'completeness',\n",
    " 'energy_100g',\n",
    " 'fat_100g',\n",
    " 'saturated-fat_100g',\n",
    " 'carbohydrates_100g',\n",
    " 'sugars_100g',\n",
    " 'fiber_100g',\n",
    " 'proteins_100g',\n",
    " 'salt_100g']"
   ]
  },
  {
   "cell_type": "code",
   "execution_count": 83,
   "metadata": {},
   "outputs": [],
   "source": [
    "imp_mean = IterativeImputer(min_value=0,max_value=100)"
   ]
  },
  {
   "cell_type": "code",
   "execution_count": 84,
   "metadata": {},
   "outputs": [],
   "source": [
    "imputed = imp_mean.fit_transform(df_imput_mode[var_quantitative_keep])"
   ]
  },
  {
   "cell_type": "code",
   "execution_count": 85,
   "metadata": {},
   "outputs": [],
   "source": [
    "df_imputed = pd.DataFrame(imputed, columns=var_quantitative_keep)"
   ]
  },
  {
   "cell_type": "code",
   "execution_count": 86,
   "metadata": {},
   "outputs": [
    {
     "data": {
      "text/plain": [
       "additives_n          0.00000\n",
       "completeness         0.00000\n",
       "energy_100g          0.00000\n",
       "fat_100g             0.00000\n",
       "saturated-fat_100g   0.00000\n",
       "carbohydrates_100g   0.00000\n",
       "sugars_100g          0.00000\n",
       "fiber_100g           0.00000\n",
       "proteins_100g        0.00000\n",
       "salt_100g            0.00000\n",
       "dtype: float64"
      ]
     },
     "execution_count": 86,
     "metadata": {},
     "output_type": "execute_result"
    }
   ],
   "source": [
    "df_imputed.isna().mean(axis=0)"
   ]
  },
  {
   "cell_type": "code",
   "execution_count": 87,
   "metadata": {},
   "outputs": [],
   "source": [
    "extracted_col = df_imput_mode[col_qualitative_keep+['categories','product_name','countries_en',\n",
    "                                                    'nutriscore_score','nutriscore_grade','ecoscore_grade']]"
   ]
  },
  {
   "cell_type": "code",
   "execution_count": 88,
   "metadata": {},
   "outputs": [],
   "source": [
    "extracted_col = extracted_col.reset_index()"
   ]
  },
  {
   "cell_type": "code",
   "execution_count": 89,
   "metadata": {},
   "outputs": [],
   "source": [
    "df_imputed = pd.concat([df_imputed, extracted_col],axis=1)\n"
   ]
  },
  {
   "cell_type": "code",
   "execution_count": 90,
   "metadata": {},
   "outputs": [
    {
     "data": {
      "text/plain": [
       "additives_n                 0.00000\n",
       "completeness                0.00000\n",
       "energy_100g                 0.00000\n",
       "fat_100g                    0.00000\n",
       "saturated-fat_100g          0.00000\n",
       "carbohydrates_100g          0.00000\n",
       "sugars_100g                 0.00000\n",
       "fiber_100g                  0.00000\n",
       "proteins_100g               0.00000\n",
       "salt_100g                   0.00000\n",
       "index                       0.00000\n",
       "brands                      0.00000\n",
       "ingredients_text            0.00000\n",
       "ingredients_analysis_tags   0.00000\n",
       "pnns_groups_1               0.00000\n",
       "pnns_groups_2               0.00000\n",
       "food_groups                 0.00000\n",
       "nutrient_levels_tags        0.00000\n",
       "main_category_en            0.00000\n",
       "categories                  0.00000\n",
       "product_name                0.00000\n",
       "countries_en                0.00000\n",
       "nutriscore_score            0.60695\n",
       "nutriscore_grade            0.60695\n",
       "ecoscore_grade              0.00005\n",
       "dtype: float64"
      ]
     },
     "execution_count": 90,
     "metadata": {},
     "output_type": "execute_result"
    }
   ],
   "source": [
    "df_imputed.isna().mean(axis=0)"
   ]
  },
  {
   "cell_type": "code",
   "execution_count": 91,
   "metadata": {},
   "outputs": [],
   "source": [
    "df_imputed = df_imputed.drop(['index'], axis=1)"
   ]
  },
  {
   "cell_type": "code",
   "execution_count": 92,
   "metadata": {},
   "outputs": [
    {
     "name": "stdout",
     "output_type": "stream",
     "text": [
      "<class 'pandas.core.frame.DataFrame'>\n",
      "RangeIndex: 2012228 entries, 0 to 2012227\n",
      "Data columns (total 24 columns):\n",
      " #   Column                     Dtype  \n",
      "---  ------                     -----  \n",
      " 0   additives_n                float64\n",
      " 1   completeness               float64\n",
      " 2   energy_100g                float64\n",
      " 3   fat_100g                   float64\n",
      " 4   saturated-fat_100g         float64\n",
      " 5   carbohydrates_100g         float64\n",
      " 6   sugars_100g                float64\n",
      " 7   fiber_100g                 float64\n",
      " 8   proteins_100g              float64\n",
      " 9   salt_100g                  float64\n",
      " 10  brands                     object \n",
      " 11  ingredients_text           object \n",
      " 12  ingredients_analysis_tags  object \n",
      " 13  pnns_groups_1              object \n",
      " 14  pnns_groups_2              object \n",
      " 15  food_groups                object \n",
      " 16  nutrient_levels_tags       object \n",
      " 17  main_category_en           object \n",
      " 18  categories                 object \n",
      " 19  product_name               object \n",
      " 20  countries_en               object \n",
      " 21  nutriscore_score           float64\n",
      " 22  nutriscore_grade           object \n",
      " 23  ecoscore_grade             object \n",
      "dtypes: float64(11), object(13)\n",
      "memory usage: 368.5+ MB\n"
     ]
    }
   ],
   "source": [
    "df_imputed.info()"
   ]
  },
  {
   "cell_type": "code",
   "execution_count": 93,
   "metadata": {},
   "outputs": [
    {
     "data": {
      "text/plain": [
       "(2012228, 24)"
      ]
     },
     "execution_count": 93,
     "metadata": {},
     "output_type": "execute_result"
    }
   ],
   "source": [
    "df_imputed.shape"
   ]
  },
  {
   "cell_type": "code",
   "execution_count": 94,
   "metadata": {},
   "outputs": [],
   "source": [
    "#supprimer tous les lignes où la somme des indicateurs nutri est > 100 après imputation\n",
    "df_imputed = df_imputed.drop(df_imputed[df_imputed[cols_to_sum].sum(axis=1) > 100].index)"
   ]
  },
  {
   "cell_type": "code",
   "execution_count": 95,
   "metadata": {},
   "outputs": [
    {
     "data": {
      "text/plain": [
       "(1965242, 24)"
      ]
     },
     "execution_count": 95,
     "metadata": {},
     "output_type": "execute_result"
    }
   ],
   "source": [
    "df_imputed.shape"
   ]
  },
  {
   "cell_type": "code",
   "execution_count": 96,
   "metadata": {},
   "outputs": [
    {
     "data": {
      "text/html": [
       "<div>\n",
       "<style scoped>\n",
       "    .dataframe tbody tr th:only-of-type {\n",
       "        vertical-align: middle;\n",
       "    }\n",
       "\n",
       "    .dataframe tbody tr th {\n",
       "        vertical-align: top;\n",
       "    }\n",
       "\n",
       "    .dataframe thead th {\n",
       "        text-align: right;\n",
       "    }\n",
       "</style>\n",
       "<table border=\"1\" class=\"dataframe\">\n",
       "  <thead>\n",
       "    <tr style=\"text-align: right;\">\n",
       "      <th></th>\n",
       "      <th>additives_n</th>\n",
       "      <th>completeness</th>\n",
       "      <th>energy_100g</th>\n",
       "      <th>fat_100g</th>\n",
       "      <th>saturated-fat_100g</th>\n",
       "      <th>carbohydrates_100g</th>\n",
       "      <th>sugars_100g</th>\n",
       "      <th>fiber_100g</th>\n",
       "      <th>proteins_100g</th>\n",
       "      <th>salt_100g</th>\n",
       "      <th>nutriscore_score</th>\n",
       "    </tr>\n",
       "  </thead>\n",
       "  <tbody>\n",
       "    <tr>\n",
       "      <th>count</th>\n",
       "      <td>1965242.00000</td>\n",
       "      <td>1965242.00000</td>\n",
       "      <td>1965242.00000</td>\n",
       "      <td>1965242.00000</td>\n",
       "      <td>1965242.00000</td>\n",
       "      <td>1965242.00000</td>\n",
       "      <td>1965242.00000</td>\n",
       "      <td>1965242.00000</td>\n",
       "      <td>1965242.00000</td>\n",
       "      <td>1965242.00000</td>\n",
       "      <td>778560.00000</td>\n",
       "    </tr>\n",
       "    <tr>\n",
       "      <th>mean</th>\n",
       "      <td>2.29290</td>\n",
       "      <td>0.46812</td>\n",
       "      <td>1038.93214</td>\n",
       "      <td>12.18327</td>\n",
       "      <td>4.60092</td>\n",
       "      <td>26.13126</td>\n",
       "      <td>12.15535</td>\n",
       "      <td>2.53651</td>\n",
       "      <td>8.39954</td>\n",
       "      <td>1.34342</td>\n",
       "      <td>9.03332</td>\n",
       "    </tr>\n",
       "    <tr>\n",
       "      <th>std</th>\n",
       "      <td>1.84652</td>\n",
       "      <td>0.20188</td>\n",
       "      <td>767.67859</td>\n",
       "      <td>16.11298</td>\n",
       "      <td>7.37649</td>\n",
       "      <td>26.78672</td>\n",
       "      <td>18.32569</td>\n",
       "      <td>3.05302</td>\n",
       "      <td>9.73965</td>\n",
       "      <td>3.97992</td>\n",
       "      <td>8.62570</td>\n",
       "    </tr>\n",
       "    <tr>\n",
       "      <th>min</th>\n",
       "      <td>0.00000</td>\n",
       "      <td>0.10000</td>\n",
       "      <td>0.00000</td>\n",
       "      <td>0.00000</td>\n",
       "      <td>0.00000</td>\n",
       "      <td>0.00000</td>\n",
       "      <td>0.00000</td>\n",
       "      <td>0.00000</td>\n",
       "      <td>0.00000</td>\n",
       "      <td>0.00000</td>\n",
       "      <td>-15.00000</td>\n",
       "    </tr>\n",
       "    <tr>\n",
       "      <th>25%</th>\n",
       "      <td>1.52047</td>\n",
       "      <td>0.27500</td>\n",
       "      <td>345.00000</td>\n",
       "      <td>0.50000</td>\n",
       "      <td>0.10000</td>\n",
       "      <td>3.57000</td>\n",
       "      <td>0.60000</td>\n",
       "      <td>1.07542</td>\n",
       "      <td>1.30000</td>\n",
       "      <td>0.11000</td>\n",
       "      <td>1.00000</td>\n",
       "    </tr>\n",
       "    <tr>\n",
       "      <th>50%</th>\n",
       "      <td>2.19778</td>\n",
       "      <td>0.40000</td>\n",
       "      <td>975.00000</td>\n",
       "      <td>5.71000</td>\n",
       "      <td>1.50000</td>\n",
       "      <td>13.60000</td>\n",
       "      <td>3.40000</td>\n",
       "      <td>2.10000</td>\n",
       "      <td>5.88235</td>\n",
       "      <td>0.77458</td>\n",
       "      <td>10.00000</td>\n",
       "    </tr>\n",
       "    <tr>\n",
       "      <th>75%</th>\n",
       "      <td>2.89392</td>\n",
       "      <td>0.57500</td>\n",
       "      <td>1582.00000</td>\n",
       "      <td>19.00000</td>\n",
       "      <td>6.16740</td>\n",
       "      <td>50.00000</td>\n",
       "      <td>15.00000</td>\n",
       "      <td>3.22691</td>\n",
       "      <td>12.00000</td>\n",
       "      <td>1.52400</td>\n",
       "      <td>16.00000</td>\n",
       "    </tr>\n",
       "    <tr>\n",
       "      <th>max</th>\n",
       "      <td>40.00000</td>\n",
       "      <td>1.10000</td>\n",
       "      <td>3770.00000</td>\n",
       "      <td>100.00000</td>\n",
       "      <td>100.00000</td>\n",
       "      <td>100.00000</td>\n",
       "      <td>100.00000</td>\n",
       "      <td>100.00000</td>\n",
       "      <td>100.00000</td>\n",
       "      <td>100.00000</td>\n",
       "      <td>40.00000</td>\n",
       "    </tr>\n",
       "  </tbody>\n",
       "</table>\n",
       "</div>"
      ],
      "text/plain": [
       "        additives_n  completeness   energy_100g      fat_100g  \\\n",
       "count 1965242.00000 1965242.00000 1965242.00000 1965242.00000   \n",
       "mean  2.29290       0.46812       1038.93214    12.18327        \n",
       "std   1.84652       0.20188       767.67859     16.11298        \n",
       "min   0.00000       0.10000       0.00000       0.00000         \n",
       "25%   1.52047       0.27500       345.00000     0.50000         \n",
       "50%   2.19778       0.40000       975.00000     5.71000         \n",
       "75%   2.89392       0.57500       1582.00000    19.00000        \n",
       "max   40.00000      1.10000       3770.00000    100.00000       \n",
       "\n",
       "       saturated-fat_100g  carbohydrates_100g   sugars_100g    fiber_100g  \\\n",
       "count 1965242.00000       1965242.00000       1965242.00000 1965242.00000   \n",
       "mean  4.60092             26.13126            12.15535      2.53651         \n",
       "std   7.37649             26.78672            18.32569      3.05302         \n",
       "min   0.00000             0.00000             0.00000       0.00000         \n",
       "25%   0.10000             3.57000             0.60000       1.07542         \n",
       "50%   1.50000             13.60000            3.40000       2.10000         \n",
       "75%   6.16740             50.00000            15.00000      3.22691         \n",
       "max   100.00000           100.00000           100.00000     100.00000       \n",
       "\n",
       "       proteins_100g     salt_100g  nutriscore_score  \n",
       "count 1965242.00000  1965242.00000 778560.00000       \n",
       "mean  8.39954        1.34342       9.03332            \n",
       "std   9.73965        3.97992       8.62570            \n",
       "min   0.00000        0.00000       -15.00000          \n",
       "25%   1.30000        0.11000       1.00000            \n",
       "50%   5.88235        0.77458       10.00000           \n",
       "75%   12.00000       1.52400       16.00000           \n",
       "max   100.00000      100.00000     40.00000           "
      ]
     },
     "execution_count": 96,
     "metadata": {},
     "output_type": "execute_result"
    }
   ],
   "source": [
    "df_imputed.describe()"
   ]
  },
  {
   "cell_type": "code",
   "execution_count": 97,
   "metadata": {},
   "outputs": [
    {
     "data": {
      "text/plain": [
       "additives_n                 0.00000\n",
       "completeness                0.00000\n",
       "energy_100g                 0.00000\n",
       "fat_100g                    0.00000\n",
       "saturated-fat_100g          0.00000\n",
       "carbohydrates_100g          0.00000\n",
       "sugars_100g                 0.00000\n",
       "fiber_100g                  0.00000\n",
       "proteins_100g               0.00000\n",
       "salt_100g                   0.00000\n",
       "brands                      0.00000\n",
       "ingredients_text            0.00000\n",
       "ingredients_analysis_tags   0.00000\n",
       "pnns_groups_1               0.00000\n",
       "pnns_groups_2               0.00000\n",
       "food_groups                 0.00000\n",
       "nutrient_levels_tags        0.00000\n",
       "main_category_en            0.00000\n",
       "categories                  0.00000\n",
       "product_name                0.00000\n",
       "countries_en                0.00000\n",
       "nutriscore_score            0.60384\n",
       "nutriscore_grade            0.60384\n",
       "ecoscore_grade              0.00005\n",
       "dtype: float64"
      ]
     },
     "execution_count": 97,
     "metadata": {},
     "output_type": "execute_result"
    }
   ],
   "source": [
    "df_imputed.isna().mean(axis=0)"
   ]
  },
  {
   "cell_type": "code",
   "execution_count": 98,
   "metadata": {},
   "outputs": [
    {
     "data": {
      "text/plain": [
       "<matplotlib.axes._subplots.AxesSubplot at 0x21a3f45d710>"
      ]
     },
     "execution_count": 98,
     "metadata": {},
     "output_type": "execute_result"
    },
    {
     "data": {
      "image/png": "[encoded data removed]",
      "text/plain": [
       "<Figure size 1800x720 with 3 Axes>"
      ]
     },
     "metadata": {
      "needs_background": "light"
     },
     "output_type": "display_data"
    }
   ],
   "source": [
    "msno.bar(df_imputed)"
   ]
  },
  {
   "cell_type": "code",
   "execution_count": 99,
   "metadata": {},
   "outputs": [],
   "source": [
    "df_imputed=df_imputed.reset_index()"
   ]
  },
  {
   "cell_type": "code",
   "execution_count": 100,
   "metadata": {},
   "outputs": [],
   "source": [
    "df_imputed = df_imputed.drop(['index'], axis=1)"
   ]
  },
  {
   "cell_type": "code",
   "execution_count": 101,
   "metadata": {},
   "outputs": [
    {
     "name": "stdout",
     "output_type": "stream",
     "text": [
      "<class 'pandas.core.frame.DataFrame'>\n",
      "RangeIndex: 1965242 entries, 0 to 1965241\n",
      "Data columns (total 24 columns):\n",
      " #   Column                     Dtype  \n",
      "---  ------                     -----  \n",
      " 0   additives_n                float64\n",
      " 1   completeness               float64\n",
      " 2   energy_100g                float64\n",
      " 3   fat_100g                   float64\n",
      " 4   saturated-fat_100g         float64\n",
      " 5   carbohydrates_100g         float64\n",
      " 6   sugars_100g                float64\n",
      " 7   fiber_100g                 float64\n",
      " 8   proteins_100g              float64\n",
      " 9   salt_100g                  float64\n",
      " 10  brands                     object \n",
      " 11  ingredients_text           object \n",
      " 12  ingredients_analysis_tags  object \n",
      " 13  pnns_groups_1              object \n",
      " 14  pnns_groups_2              object \n",
      " 15  food_groups                object \n",
      " 16  nutrient_levels_tags       object \n",
      " 17  main_category_en           object \n",
      " 18  categories                 object \n",
      " 19  product_name               object \n",
      " 20  countries_en               object \n",
      " 21  nutriscore_score           float64\n",
      " 22  nutriscore_grade           object \n",
      " 23  ecoscore_grade             object \n",
      "dtypes: float64(11), object(13)\n",
      "memory usage: 359.8+ MB\n"
     ]
    }
   ],
   "source": [
    "df_imputed.info()"
   ]
  },
  {
   "cell_type": "code",
   "execution_count": 102,
   "metadata": {},
   "outputs": [],
   "source": [
    "df_imputed.to_feather(\"cleaned_data_1.feather\")"
   ]
  }
 ],
 "metadata": {
  "kernelspec": {
   "display_name": "Python 3",
   "language": "python",
   "name": "python3"
  },
  "language_info": {
   "codemirror_mode": {
    "name": "ipython",
    "version": 3
   },
   "file_extension": ".py",
   "mimetype": "text/x-python",
   "name": "python",
   "nbconvert_exporter": "python",
   "pygments_lexer": "ipython3",
   "version": "3.6.10"
  },
  "toc": {
   "base_numbering": 1,
   "nav_menu": {},
   "number_sections": true,
   "sideBar": true,
   "skip_h1_title": false,
   "title_cell": "Table of Contents",
   "title_sidebar": "Contents",
   "toc_cell": false,
   "toc_position": {
    "height": "calc(100% - 180px)",
    "left": "10px",
    "top": "150px",
    "width": "326.6px"
   },
   "toc_section_display": true,
   "toc_window_display": true
  },
  "widgets": {
   "application/vnd.jupyter.widget-state+json": {
    "state": {},
    "version_major": 2,
    "version_minor": 0
   }
  }
 },
 "nbformat": 4,
 "nbformat_minor": 4
}
